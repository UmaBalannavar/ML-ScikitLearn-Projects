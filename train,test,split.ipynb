{
 "cells": [
  {
   "cell_type": "markdown",
   "metadata": {},
   "source": [
    "SUMMARY FORM CHATGPT OFA AN YOUTUBE VIDEO ON SKLEARN \n",
    "\n",
    "Train-Test Split in Scikit-Learn – Key Points\n",
    "1. Why Train-Test Split?\n",
    "Used to evaluate machine learning models on unseen data.\n",
    "\n",
    "Training Set → Used to train the model.\n",
    "\n",
    "Test Set → Used to check model performance.\n",
    "2. code\n",
    "\n",
    "Key Parameters:\n",
    "\n",
    "test_size=0.2 → 20% of data for testing.\n",
    "\n",
    "random_state=42 → Ensures reproducibility.\n",
    "\n",
    "shuffle=True (default) → Shuffles data before splitting.\n",
    "\n",
    "3. Choosing the Right Test Size\n",
    "Common split: 80% Train, 20% Test (sometimes 70-30 or 90-10).\n",
    "\n",
    "For large datasets, even 10% test size can be sufficient.\n",
    "\n",
    "4. Stratified Splitting (For Classification Problems)\n",
    "Maintains class distribution in train & test sets.\n",
    "\n",
    "Use stratify=y to ensure balanced class proportions:\n",
    "\n",
    "code \n",
    "\n"
   ]
  },
  {
   "cell_type": "markdown",
   "metadata": {},
   "source": [
    "5. Key Takeaways\n",
    "✅ Splitting data ensures unbiased model evaluation.\n",
    "✅ Use random_state for reproducibility.\n",
    "✅ For classification, use stratify=y to maintain class balance.\n",
    "✅ Test size usually ranges from 10% to 30% of the dataset."
   ]
  },
  {
   "cell_type": "code",
   "execution_count": 1,
   "metadata": {},
   "outputs": [],
   "source": [
    "import pandas as pd"
   ]
  },
  {
   "cell_type": "code",
   "execution_count": 2,
   "metadata": {},
   "outputs": [],
   "source": [
    "from sklearn.model_selection import train_test_split"
   ]
  },
  {
   "cell_type": "code",
   "execution_count": 3,
   "metadata": {},
   "outputs": [],
   "source": [
    "df=pd.read_csv(\"500hits.csv\",encoding=\"latin-1\")"
   ]
  },
  {
   "cell_type": "code",
   "execution_count": 4,
   "metadata": {},
   "outputs": [
    {
     "data": {
      "text/html": [
       "<div>\n",
       "<style scoped>\n",
       "    .dataframe tbody tr th:only-of-type {\n",
       "        vertical-align: middle;\n",
       "    }\n",
       "\n",
       "    .dataframe tbody tr th {\n",
       "        vertical-align: top;\n",
       "    }\n",
       "\n",
       "    .dataframe thead th {\n",
       "        text-align: right;\n",
       "    }\n",
       "</style>\n",
       "<table border=\"1\" class=\"dataframe\">\n",
       "  <thead>\n",
       "    <tr style=\"text-align: right;\">\n",
       "      <th></th>\n",
       "      <th>PLAYER</th>\n",
       "      <th>YRS</th>\n",
       "      <th>G</th>\n",
       "      <th>AB</th>\n",
       "      <th>R</th>\n",
       "      <th>H</th>\n",
       "      <th>2B</th>\n",
       "      <th>3B</th>\n",
       "      <th>HR</th>\n",
       "      <th>RBI</th>\n",
       "      <th>BB</th>\n",
       "      <th>SO</th>\n",
       "      <th>SB</th>\n",
       "      <th>CS</th>\n",
       "      <th>BA</th>\n",
       "      <th>HOF</th>\n",
       "    </tr>\n",
       "  </thead>\n",
       "  <tbody>\n",
       "    <tr>\n",
       "      <th>0</th>\n",
       "      <td>Ty Cobb</td>\n",
       "      <td>24</td>\n",
       "      <td>3035</td>\n",
       "      <td>11434</td>\n",
       "      <td>2246</td>\n",
       "      <td>4189</td>\n",
       "      <td>724</td>\n",
       "      <td>295</td>\n",
       "      <td>117</td>\n",
       "      <td>726</td>\n",
       "      <td>1249</td>\n",
       "      <td>357</td>\n",
       "      <td>892</td>\n",
       "      <td>178</td>\n",
       "      <td>0.366</td>\n",
       "      <td>1</td>\n",
       "    </tr>\n",
       "    <tr>\n",
       "      <th>1</th>\n",
       "      <td>Stan Musial</td>\n",
       "      <td>22</td>\n",
       "      <td>3026</td>\n",
       "      <td>10972</td>\n",
       "      <td>1949</td>\n",
       "      <td>3630</td>\n",
       "      <td>725</td>\n",
       "      <td>177</td>\n",
       "      <td>475</td>\n",
       "      <td>1951</td>\n",
       "      <td>1599</td>\n",
       "      <td>696</td>\n",
       "      <td>78</td>\n",
       "      <td>31</td>\n",
       "      <td>0.331</td>\n",
       "      <td>1</td>\n",
       "    </tr>\n",
       "    <tr>\n",
       "      <th>2</th>\n",
       "      <td>Tris Speaker</td>\n",
       "      <td>22</td>\n",
       "      <td>2789</td>\n",
       "      <td>10195</td>\n",
       "      <td>1882</td>\n",
       "      <td>3514</td>\n",
       "      <td>792</td>\n",
       "      <td>222</td>\n",
       "      <td>117</td>\n",
       "      <td>724</td>\n",
       "      <td>1381</td>\n",
       "      <td>220</td>\n",
       "      <td>432</td>\n",
       "      <td>129</td>\n",
       "      <td>0.345</td>\n",
       "      <td>1</td>\n",
       "    </tr>\n",
       "    <tr>\n",
       "      <th>3</th>\n",
       "      <td>Derek Jeter</td>\n",
       "      <td>20</td>\n",
       "      <td>2747</td>\n",
       "      <td>11195</td>\n",
       "      <td>1923</td>\n",
       "      <td>3465</td>\n",
       "      <td>544</td>\n",
       "      <td>66</td>\n",
       "      <td>260</td>\n",
       "      <td>1311</td>\n",
       "      <td>1082</td>\n",
       "      <td>1840</td>\n",
       "      <td>358</td>\n",
       "      <td>97</td>\n",
       "      <td>0.310</td>\n",
       "      <td>1</td>\n",
       "    </tr>\n",
       "    <tr>\n",
       "      <th>4</th>\n",
       "      <td>Honus Wagner</td>\n",
       "      <td>21</td>\n",
       "      <td>2792</td>\n",
       "      <td>10430</td>\n",
       "      <td>1736</td>\n",
       "      <td>3430</td>\n",
       "      <td>640</td>\n",
       "      <td>252</td>\n",
       "      <td>101</td>\n",
       "      <td>0</td>\n",
       "      <td>963</td>\n",
       "      <td>327</td>\n",
       "      <td>722</td>\n",
       "      <td>15</td>\n",
       "      <td>0.329</td>\n",
       "      <td>1</td>\n",
       "    </tr>\n",
       "  </tbody>\n",
       "</table>\n",
       "</div>"
      ],
      "text/plain": [
       "         PLAYER  YRS     G     AB     R     H   2B   3B   HR   RBI    BB  \\\n",
       "0       Ty Cobb   24  3035  11434  2246  4189  724  295  117   726  1249   \n",
       "1   Stan Musial   22  3026  10972  1949  3630  725  177  475  1951  1599   \n",
       "2  Tris Speaker   22  2789  10195  1882  3514  792  222  117   724  1381   \n",
       "3   Derek Jeter   20  2747  11195  1923  3465  544   66  260  1311  1082   \n",
       "4  Honus Wagner   21  2792  10430  1736  3430  640  252  101     0   963   \n",
       "\n",
       "     SO   SB   CS     BA  HOF  \n",
       "0   357  892  178  0.366    1  \n",
       "1   696   78   31  0.331    1  \n",
       "2   220  432  129  0.345    1  \n",
       "3  1840  358   97  0.310    1  \n",
       "4   327  722   15  0.329    1  "
      ]
     },
     "execution_count": 4,
     "metadata": {},
     "output_type": "execute_result"
    }
   ],
   "source": [
    "df.head()"
   ]
  },
  {
   "cell_type": "code",
   "execution_count": 5,
   "metadata": {},
   "outputs": [],
   "source": [
    "X=df.drop(columns=[\"PLAYER\",\"HOF\"])\n",
    "y=df[\"HOF\"]"
   ]
  },
  {
   "cell_type": "code",
   "execution_count": 7,
   "metadata": {},
   "outputs": [
    {
     "data": {
      "text/html": [
       "<div>\n",
       "<style scoped>\n",
       "    .dataframe tbody tr th:only-of-type {\n",
       "        vertical-align: middle;\n",
       "    }\n",
       "\n",
       "    .dataframe tbody tr th {\n",
       "        vertical-align: top;\n",
       "    }\n",
       "\n",
       "    .dataframe thead th {\n",
       "        text-align: right;\n",
       "    }\n",
       "</style>\n",
       "<table border=\"1\" class=\"dataframe\">\n",
       "  <thead>\n",
       "    <tr style=\"text-align: right;\">\n",
       "      <th></th>\n",
       "      <th>YRS</th>\n",
       "      <th>G</th>\n",
       "      <th>AB</th>\n",
       "      <th>R</th>\n",
       "      <th>H</th>\n",
       "      <th>2B</th>\n",
       "      <th>3B</th>\n",
       "      <th>HR</th>\n",
       "      <th>RBI</th>\n",
       "      <th>BB</th>\n",
       "      <th>SO</th>\n",
       "      <th>SB</th>\n",
       "      <th>CS</th>\n",
       "      <th>BA</th>\n",
       "    </tr>\n",
       "  </thead>\n",
       "  <tbody>\n",
       "    <tr>\n",
       "      <th>0</th>\n",
       "      <td>24</td>\n",
       "      <td>3035</td>\n",
       "      <td>11434</td>\n",
       "      <td>2246</td>\n",
       "      <td>4189</td>\n",
       "      <td>724</td>\n",
       "      <td>295</td>\n",
       "      <td>117</td>\n",
       "      <td>726</td>\n",
       "      <td>1249</td>\n",
       "      <td>357</td>\n",
       "      <td>892</td>\n",
       "      <td>178</td>\n",
       "      <td>0.366</td>\n",
       "    </tr>\n",
       "    <tr>\n",
       "      <th>1</th>\n",
       "      <td>22</td>\n",
       "      <td>3026</td>\n",
       "      <td>10972</td>\n",
       "      <td>1949</td>\n",
       "      <td>3630</td>\n",
       "      <td>725</td>\n",
       "      <td>177</td>\n",
       "      <td>475</td>\n",
       "      <td>1951</td>\n",
       "      <td>1599</td>\n",
       "      <td>696</td>\n",
       "      <td>78</td>\n",
       "      <td>31</td>\n",
       "      <td>0.331</td>\n",
       "    </tr>\n",
       "    <tr>\n",
       "      <th>2</th>\n",
       "      <td>22</td>\n",
       "      <td>2789</td>\n",
       "      <td>10195</td>\n",
       "      <td>1882</td>\n",
       "      <td>3514</td>\n",
       "      <td>792</td>\n",
       "      <td>222</td>\n",
       "      <td>117</td>\n",
       "      <td>724</td>\n",
       "      <td>1381</td>\n",
       "      <td>220</td>\n",
       "      <td>432</td>\n",
       "      <td>129</td>\n",
       "      <td>0.345</td>\n",
       "    </tr>\n",
       "    <tr>\n",
       "      <th>3</th>\n",
       "      <td>20</td>\n",
       "      <td>2747</td>\n",
       "      <td>11195</td>\n",
       "      <td>1923</td>\n",
       "      <td>3465</td>\n",
       "      <td>544</td>\n",
       "      <td>66</td>\n",
       "      <td>260</td>\n",
       "      <td>1311</td>\n",
       "      <td>1082</td>\n",
       "      <td>1840</td>\n",
       "      <td>358</td>\n",
       "      <td>97</td>\n",
       "      <td>0.310</td>\n",
       "    </tr>\n",
       "    <tr>\n",
       "      <th>4</th>\n",
       "      <td>21</td>\n",
       "      <td>2792</td>\n",
       "      <td>10430</td>\n",
       "      <td>1736</td>\n",
       "      <td>3430</td>\n",
       "      <td>640</td>\n",
       "      <td>252</td>\n",
       "      <td>101</td>\n",
       "      <td>0</td>\n",
       "      <td>963</td>\n",
       "      <td>327</td>\n",
       "      <td>722</td>\n",
       "      <td>15</td>\n",
       "      <td>0.329</td>\n",
       "    </tr>\n",
       "  </tbody>\n",
       "</table>\n",
       "</div>"
      ],
      "text/plain": [
       "   YRS     G     AB     R     H   2B   3B   HR   RBI    BB    SO   SB   CS  \\\n",
       "0   24  3035  11434  2246  4189  724  295  117   726  1249   357  892  178   \n",
       "1   22  3026  10972  1949  3630  725  177  475  1951  1599   696   78   31   \n",
       "2   22  2789  10195  1882  3514  792  222  117   724  1381   220  432  129   \n",
       "3   20  2747  11195  1923  3465  544   66  260  1311  1082  1840  358   97   \n",
       "4   21  2792  10430  1736  3430  640  252  101     0   963   327  722   15   \n",
       "\n",
       "      BA  \n",
       "0  0.366  \n",
       "1  0.331  \n",
       "2  0.345  \n",
       "3  0.310  \n",
       "4  0.329  "
      ]
     },
     "execution_count": 7,
     "metadata": {},
     "output_type": "execute_result"
    }
   ],
   "source": [
    "X.head()\n"
   ]
  },
  {
   "cell_type": "code",
   "execution_count": 8,
   "metadata": {},
   "outputs": [
    {
     "data": {
      "text/plain": [
       "(465, 14)"
      ]
     },
     "execution_count": 8,
     "metadata": {},
     "output_type": "execute_result"
    }
   ],
   "source": [
    "X.shape\n"
   ]
  },
  {
   "cell_type": "code",
   "execution_count": 9,
   "metadata": {},
   "outputs": [
    {
     "data": {
      "text/plain": [
       "0    1\n",
       "1    1\n",
       "2    1\n",
       "3    1\n",
       "4    1\n",
       "Name: HOF, dtype: int64"
      ]
     },
     "execution_count": 9,
     "metadata": {},
     "output_type": "execute_result"
    }
   ],
   "source": [
    "y.head()\n"
   ]
  },
  {
   "cell_type": "code",
   "execution_count": 10,
   "metadata": {},
   "outputs": [
    {
     "data": {
      "text/plain": [
       "(465,)"
      ]
     },
     "execution_count": 10,
     "metadata": {},
     "output_type": "execute_result"
    }
   ],
   "source": [
    "y.shape"
   ]
  },
  {
   "cell_type": "code",
   "execution_count": 11,
   "metadata": {},
   "outputs": [],
   "source": [
    "X_train,X_test,y_train,y_test=train_test_split(X,y,random_state=11,test_size=0.2)\n"
   ]
  },
  {
   "cell_type": "code",
   "execution_count": 12,
   "metadata": {},
   "outputs": [
    {
     "data": {
      "text/plain": [
       "(372, 14)"
      ]
     },
     "execution_count": 12,
     "metadata": {},
     "output_type": "execute_result"
    }
   ],
   "source": [
    "X_train.shape"
   ]
  },
  {
   "cell_type": "code",
   "execution_count": 13,
   "metadata": {},
   "outputs": [
    {
     "data": {
      "text/plain": [
       "(93, 14)"
      ]
     },
     "execution_count": 13,
     "metadata": {},
     "output_type": "execute_result"
    }
   ],
   "source": [
    "X_test.shape"
   ]
  },
  {
   "cell_type": "code",
   "execution_count": 14,
   "metadata": {},
   "outputs": [
    {
     "data": {
      "text/plain": [
       "(372,)"
      ]
     },
     "execution_count": 14,
     "metadata": {},
     "output_type": "execute_result"
    }
   ],
   "source": [
    "y_train.shape"
   ]
  },
  {
   "cell_type": "code",
   "execution_count": 15,
   "metadata": {},
   "outputs": [
    {
     "data": {
      "text/plain": [
       "(93,)"
      ]
     },
     "execution_count": 15,
     "metadata": {},
     "output_type": "execute_result"
    }
   ],
   "source": [
    "y_test.shape"
   ]
  },
  {
   "cell_type": "code",
   "execution_count": 16,
   "metadata": {},
   "outputs": [
    {
     "data": {
      "text/html": [
       "<div>\n",
       "<style scoped>\n",
       "    .dataframe tbody tr th:only-of-type {\n",
       "        vertical-align: middle;\n",
       "    }\n",
       "\n",
       "    .dataframe tbody tr th {\n",
       "        vertical-align: top;\n",
       "    }\n",
       "\n",
       "    .dataframe thead th {\n",
       "        text-align: right;\n",
       "    }\n",
       "</style>\n",
       "<table border=\"1\" class=\"dataframe\">\n",
       "  <thead>\n",
       "    <tr style=\"text-align: right;\">\n",
       "      <th></th>\n",
       "      <th>YRS</th>\n",
       "      <th>G</th>\n",
       "      <th>AB</th>\n",
       "      <th>R</th>\n",
       "      <th>H</th>\n",
       "      <th>2B</th>\n",
       "      <th>3B</th>\n",
       "      <th>HR</th>\n",
       "      <th>RBI</th>\n",
       "      <th>BB</th>\n",
       "      <th>SO</th>\n",
       "      <th>SB</th>\n",
       "      <th>CS</th>\n",
       "      <th>BA</th>\n",
       "    </tr>\n",
       "  </thead>\n",
       "  <tbody>\n",
       "    <tr>\n",
       "      <th>289</th>\n",
       "      <td>18</td>\n",
       "      <td>2028</td>\n",
       "      <td>7298</td>\n",
       "      <td>873</td>\n",
       "      <td>1993</td>\n",
       "      <td>284</td>\n",
       "      <td>40</td>\n",
       "      <td>325</td>\n",
       "      <td>1163</td>\n",
       "      <td>620</td>\n",
       "      <td>1313</td>\n",
       "      <td>20</td>\n",
       "      <td>38</td>\n",
       "      <td>0.273</td>\n",
       "    </tr>\n",
       "    <tr>\n",
       "      <th>288</th>\n",
       "      <td>13</td>\n",
       "      <td>1836</td>\n",
       "      <td>6826</td>\n",
       "      <td>856</td>\n",
       "      <td>1996</td>\n",
       "      <td>392</td>\n",
       "      <td>117</td>\n",
       "      <td>43</td>\n",
       "      <td>402</td>\n",
       "      <td>513</td>\n",
       "      <td>360</td>\n",
       "      <td>247</td>\n",
       "      <td>108</td>\n",
       "      <td>0.292</td>\n",
       "    </tr>\n",
       "    <tr>\n",
       "      <th>350</th>\n",
       "      <td>14</td>\n",
       "      <td>1799</td>\n",
       "      <td>6373</td>\n",
       "      <td>876</td>\n",
       "      <td>1854</td>\n",
       "      <td>282</td>\n",
       "      <td>64</td>\n",
       "      <td>49</td>\n",
       "      <td>630</td>\n",
       "      <td>844</td>\n",
       "      <td>627</td>\n",
       "      <td>37</td>\n",
       "      <td>51</td>\n",
       "      <td>0.291</td>\n",
       "    </tr>\n",
       "    <tr>\n",
       "      <th>196</th>\n",
       "      <td>17</td>\n",
       "      <td>2158</td>\n",
       "      <td>7911</td>\n",
       "      <td>1057</td>\n",
       "      <td>2276</td>\n",
       "      <td>414</td>\n",
       "      <td>92</td>\n",
       "      <td>94</td>\n",
       "      <td>844</td>\n",
       "      <td>690</td>\n",
       "      <td>784</td>\n",
       "      <td>246</td>\n",
       "      <td>138</td>\n",
       "      <td>0.288</td>\n",
       "    </tr>\n",
       "    <tr>\n",
       "      <th>184</th>\n",
       "      <td>19</td>\n",
       "      <td>2390</td>\n",
       "      <td>8570</td>\n",
       "      <td>1386</td>\n",
       "      <td>2369</td>\n",
       "      <td>420</td>\n",
       "      <td>65</td>\n",
       "      <td>244</td>\n",
       "      <td>1084</td>\n",
       "      <td>1197</td>\n",
       "      <td>1099</td>\n",
       "      <td>143</td>\n",
       "      <td>75</td>\n",
       "      <td>0.276</td>\n",
       "    </tr>\n",
       "  </tbody>\n",
       "</table>\n",
       "</div>"
      ],
      "text/plain": [
       "     YRS     G    AB     R     H   2B   3B   HR   RBI    BB    SO   SB   CS  \\\n",
       "289   18  2028  7298   873  1993  284   40  325  1163   620  1313   20   38   \n",
       "288   13  1836  6826   856  1996  392  117   43   402   513   360  247  108   \n",
       "350   14  1799  6373   876  1854  282   64   49   630   844   627   37   51   \n",
       "196   17  2158  7911  1057  2276  414   92   94   844   690   784  246  138   \n",
       "184   19  2390  8570  1386  2369  420   65  244  1084  1197  1099  143   75   \n",
       "\n",
       "        BA  \n",
       "289  0.273  \n",
       "288  0.292  \n",
       "350  0.291  \n",
       "196  0.288  \n",
       "184  0.276  "
      ]
     },
     "execution_count": 16,
     "metadata": {},
     "output_type": "execute_result"
    }
   ],
   "source": [
    "X_train.head()"
   ]
  },
  {
   "cell_type": "code",
   "execution_count": 17,
   "metadata": {},
   "outputs": [
    {
     "data": {
      "text/html": [
       "<div>\n",
       "<style scoped>\n",
       "    .dataframe tbody tr th:only-of-type {\n",
       "        vertical-align: middle;\n",
       "    }\n",
       "\n",
       "    .dataframe tbody tr th {\n",
       "        vertical-align: top;\n",
       "    }\n",
       "\n",
       "    .dataframe thead th {\n",
       "        text-align: right;\n",
       "    }\n",
       "</style>\n",
       "<table border=\"1\" class=\"dataframe\">\n",
       "  <thead>\n",
       "    <tr style=\"text-align: right;\">\n",
       "      <th></th>\n",
       "      <th>YRS</th>\n",
       "      <th>G</th>\n",
       "      <th>AB</th>\n",
       "      <th>R</th>\n",
       "      <th>H</th>\n",
       "      <th>2B</th>\n",
       "      <th>3B</th>\n",
       "      <th>HR</th>\n",
       "      <th>RBI</th>\n",
       "      <th>BB</th>\n",
       "      <th>SO</th>\n",
       "      <th>SB</th>\n",
       "      <th>CS</th>\n",
       "      <th>BA</th>\n",
       "    </tr>\n",
       "  </thead>\n",
       "  <tbody>\n",
       "    <tr>\n",
       "      <th>144</th>\n",
       "      <td>18</td>\n",
       "      <td>1884</td>\n",
       "      <td>6028</td>\n",
       "      <td>687</td>\n",
       "      <td>1692</td>\n",
       "      <td>324</td>\n",
       "      <td>45</td>\n",
       "      <td>28</td>\n",
       "      <td>734</td>\n",
       "      <td>931</td>\n",
       "      <td>277</td>\n",
       "      <td>29</td>\n",
       "      <td>35</td>\n",
       "      <td>0.281</td>\n",
       "    </tr>\n",
       "    <tr>\n",
       "      <th>296</th>\n",
       "      <td>18</td>\n",
       "      <td>2048</td>\n",
       "      <td>7129</td>\n",
       "      <td>941</td>\n",
       "      <td>1980</td>\n",
       "      <td>343</td>\n",
       "      <td>27</td>\n",
       "      <td>267</td>\n",
       "      <td>1111</td>\n",
       "      <td>567</td>\n",
       "      <td>1013</td>\n",
       "      <td>59</td>\n",
       "      <td>47</td>\n",
       "      <td>0.278</td>\n",
       "    </tr>\n",
       "    <tr>\n",
       "      <th>39</th>\n",
       "      <td>15</td>\n",
       "      <td>2055</td>\n",
       "      <td>8267</td>\n",
       "      <td>1284</td>\n",
       "      <td>2812</td>\n",
       "      <td>425</td>\n",
       "      <td>164</td>\n",
       "      <td>102</td>\n",
       "      <td>894</td>\n",
       "      <td>472</td>\n",
       "      <td>327</td>\n",
       "      <td>375</td>\n",
       "      <td>127</td>\n",
       "      <td>0.340</td>\n",
       "    </tr>\n",
       "    <tr>\n",
       "      <th>247</th>\n",
       "      <td>16</td>\n",
       "      <td>1982</td>\n",
       "      <td>7359</td>\n",
       "      <td>1004</td>\n",
       "      <td>2100</td>\n",
       "      <td>240</td>\n",
       "      <td>105</td>\n",
       "      <td>17</td>\n",
       "      <td>86</td>\n",
       "      <td>685</td>\n",
       "      <td>197</td>\n",
       "      <td>495</td>\n",
       "      <td>78</td>\n",
       "      <td>0.285</td>\n",
       "    </tr>\n",
       "    <tr>\n",
       "      <th>197</th>\n",
       "      <td>14</td>\n",
       "      <td>2099</td>\n",
       "      <td>7983</td>\n",
       "      <td>1125</td>\n",
       "      <td>2273</td>\n",
       "      <td>469</td>\n",
       "      <td>19</td>\n",
       "      <td>358</td>\n",
       "      <td>1363</td>\n",
       "      <td>655</td>\n",
       "      <td>984</td>\n",
       "      <td>125</td>\n",
       "      <td>47</td>\n",
       "      <td>0.285</td>\n",
       "    </tr>\n",
       "  </tbody>\n",
       "</table>\n",
       "</div>"
      ],
      "text/plain": [
       "     YRS     G    AB     R     H   2B   3B   HR   RBI   BB    SO   SB   CS  \\\n",
       "144   18  1884  6028   687  1692  324   45   28   734  931   277   29   35   \n",
       "296   18  2048  7129   941  1980  343   27  267  1111  567  1013   59   47   \n",
       "39    15  2055  8267  1284  2812  425  164  102   894  472   327  375  127   \n",
       "247   16  1982  7359  1004  2100  240  105   17    86  685   197  495   78   \n",
       "197   14  2099  7983  1125  2273  469   19  358  1363  655   984  125   47   \n",
       "\n",
       "        BA  \n",
       "144  0.281  \n",
       "296  0.278  \n",
       "39   0.340  \n",
       "247  0.285  \n",
       "197  0.285  "
      ]
     },
     "execution_count": 17,
     "metadata": {},
     "output_type": "execute_result"
    }
   ],
   "source": [
    "X_test.head()"
   ]
  },
  {
   "cell_type": "code",
   "execution_count": 18,
   "metadata": {},
   "outputs": [
    {
     "data": {
      "text/plain": [
       "<bound method NDFrame.describe of      YRS     G    AB     R     H   2B   3B   HR   RBI    BB    SO   SB   CS  \\\n",
       "289   18  2028  7298   873  1993  284   40  325  1163   620  1313   20   38   \n",
       "288   13  1836  6826   856  1996  392  117   43   402   513   360  247  108   \n",
       "350   14  1799  6373   876  1854  282   64   49   630   844   627   37   51   \n",
       "196   17  2158  7911  1057  2276  414   92   94   844   690   784  246  138   \n",
       "184   19  2390  8570  1386  2369  420   65  244  1084  1197  1099  143   75   \n",
       "..   ...   ...   ...   ...   ...  ...  ...  ...   ...   ...   ...  ...  ...   \n",
       "337   17  1912  6787   926  1884  334   69  164   824   468  1266  312  134   \n",
       "91    25  2383  8618  1057  2309  391  143   34     0   774    79  201    2   \n",
       "80    18  1967  7363  1099  2376  339  182   68   671   484   260  268   92   \n",
       "191   19  2488  8723   993  2326  389   48  101   950   736  1186  321  109   \n",
       "409   14  1747  6192   903  1749  312   18  293  1086   838   798   37   26   \n",
       "\n",
       "        BA  \n",
       "289  0.273  \n",
       "288  0.292  \n",
       "350  0.291  \n",
       "196  0.288  \n",
       "184  0.276  \n",
       "..     ...  \n",
       "337  0.278  \n",
       "91   0.268  \n",
       "80   0.323  \n",
       "191  0.267  \n",
       "409  0.282  \n",
       "\n",
       "[372 rows x 14 columns]>"
      ]
     },
     "execution_count": 18,
     "metadata": {},
     "output_type": "execute_result"
    }
   ],
   "source": [
    "X_train.describe"
   ]
  },
  {
   "cell_type": "code",
   "execution_count": 19,
   "metadata": {},
   "outputs": [
    {
     "data": {
      "text/plain": [
       "<bound method NDFrame.describe of      YRS     G    AB     R     H   2B   3B   HR   RBI   BB    SO   SB   CS  \\\n",
       "144   18  1884  6028   687  1692  324   45   28   734  931   277   29   35   \n",
       "296   18  2048  7129   941  1980  343   27  267  1111  567  1013   59   47   \n",
       "39    15  2055  8267  1284  2812  425  164  102   894  472   327  375  127   \n",
       "247   16  1982  7359  1004  2100  240  105   17    86  685   197  495   78   \n",
       "197   14  2099  7983  1125  2273  469   19  358  1363  655   984  125   47   \n",
       "..   ...   ...   ...   ...   ...  ...  ...  ...   ...  ...   ...  ...  ...   \n",
       "259   15  1862  7158  1007  2074  332   40  151   874  553   719  224  104   \n",
       "451   13  1414  5472   818  1682  335   92   65   874  514   272   23   24   \n",
       "380   17  1852  6292   844  1796  264   62  213   976  561   477   38   13   \n",
       "74    16  2089  8225  1249  2452  373   79  382  1451  670  1423   58   34   \n",
       "31    19  2410  9106  1289  2884  476  172  132   608  650   559  205   49   \n",
       "\n",
       "        BA  \n",
       "144  0.281  \n",
       "296  0.278  \n",
       "39   0.340  \n",
       "247  0.285  \n",
       "197  0.285  \n",
       "..     ...  \n",
       "259  0.290  \n",
       "451  0.307  \n",
       "380  0.285  \n",
       "74   0.298  \n",
       "31   0.317  \n",
       "\n",
       "[93 rows x 14 columns]>"
      ]
     },
     "execution_count": 19,
     "metadata": {},
     "output_type": "execute_result"
    }
   ],
   "source": [
    "X_test.describe"
   ]
  }
 ],
 "metadata": {
  "kernelspec": {
   "display_name": "base",
   "language": "python",
   "name": "python3"
  },
  "language_info": {
   "codemirror_mode": {
    "name": "ipython",
    "version": 3
   },
   "file_extension": ".py",
   "mimetype": "text/x-python",
   "name": "python",
   "nbconvert_exporter": "python",
   "pygments_lexer": "ipython3",
   "version": "3.10.9"
  }
 },
 "nbformat": 4,
 "nbformat_minor": 2
}
