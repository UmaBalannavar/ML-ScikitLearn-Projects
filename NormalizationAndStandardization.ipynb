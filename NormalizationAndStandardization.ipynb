{
 "cells": [
  {
   "cell_type": "markdown",
   "metadata": {},
   "source": [
    "Normalization and Standardization are tow methods used in preprocessing of data which are a part of feature scaling \n",
    "Feature Scaling is used to Sacle the feature into similaar scale for easer understanding of data\n",
    "Normaalization Data are in range of [0,1] ,unit sacling is done here \n",
    "Standardization -the mean of each feature is reduced to 0 and std devn is made as 1 ,"
   ]
  },
  {
   "cell_type": "markdown",
   "metadata": {},
   "source": [
    "SUMMARY FROM CHATGPT\n",
    "Feature Scaling in SciKit-Learn (Normalization vs Standardization) – Key Points\n",
    "1. Importance of Feature Scaling\n",
    "Machine learning models perform better when features are on a similar scale.\n",
    "\n",
    "Prevents features with larger values from dominating the learning process.\n",
    "\n",
    "2. Normalization\n",
    "Formula: \n",
    "𝑋′=𝑋−𝑋min\\⁡(𝑋max−𝑋min)\n",
    "⁡\n",
    "X ′= X max−X min \\X−X min\n",
    "​\n",
    " \n",
    "​Scales data to [0,1] or [-1,1] range.\n",
    "\n",
    "Best for:\n",
    "\n",
    "When data does not follow a Gaussian distribution.\n",
    "\n",
    "Algorithms like KNN, K-Means, and Neural Networks.\n",
    "\n",
    "3. Standardization\n",
    "Formula: \n",
    "𝑋′=𝑋−𝜇\\𝜎\n",
    "X ′= σ\\X−μ\n",
    "​\n",
    " \n",
    "\n",
    "Transforms data to have mean = 0 and standard deviation = 1.\n",
    "\n",
    "Best for:\n",
    "\n",
    "When data follows a Gaussian distribution.\n",
    "\n",
    "Algorithms like Linear Regression, Logistic Regression, SVM, and PCA.\n",
    "\n",
    "4. When to Use Which?\n",
    "Use Normalization → When data range varies a lot (Min-Max Scaling).\n",
    "\n",
    "Use Standardization → When data is normally distributed or required by an algorithm.\n"
   ]
  },
  {
   "cell_type": "markdown",
   "metadata": {},
   "source": [
    "Key Takeaways\n",
    "✅ Normalization → Rescales to [0,1], useful for non-Gaussian data.\n",
    "✅ Standardization → Mean = 0, Std = 1, useful for Gaussian data.\n",
    "✅ Use SciKit-Learn’s MinMaxScaler for Normalization & StandardScaler for Standardization."
   ]
  },
  {
   "cell_type": "code",
   "execution_count": 1,
   "metadata": {},
   "outputs": [
    {
     "data": {
      "text/html": [
       "<div>\n",
       "<style scoped>\n",
       "    .dataframe tbody tr th:only-of-type {\n",
       "        vertical-align: middle;\n",
       "    }\n",
       "\n",
       "    .dataframe tbody tr th {\n",
       "        vertical-align: top;\n",
       "    }\n",
       "\n",
       "    .dataframe thead th {\n",
       "        text-align: right;\n",
       "    }\n",
       "</style>\n",
       "<table border=\"1\" class=\"dataframe\">\n",
       "  <thead>\n",
       "    <tr style=\"text-align: right;\">\n",
       "      <th></th>\n",
       "      <th>PLAYER</th>\n",
       "      <th>YRS</th>\n",
       "      <th>G</th>\n",
       "      <th>AB</th>\n",
       "      <th>R</th>\n",
       "      <th>H</th>\n",
       "      <th>2B</th>\n",
       "      <th>3B</th>\n",
       "      <th>HR</th>\n",
       "      <th>RBI</th>\n",
       "      <th>BB</th>\n",
       "      <th>SO</th>\n",
       "      <th>SB</th>\n",
       "      <th>CS</th>\n",
       "      <th>BA</th>\n",
       "      <th>HOF</th>\n",
       "    </tr>\n",
       "  </thead>\n",
       "  <tbody>\n",
       "    <tr>\n",
       "      <th>0</th>\n",
       "      <td>Ty Cobb</td>\n",
       "      <td>24</td>\n",
       "      <td>3035</td>\n",
       "      <td>11434</td>\n",
       "      <td>2246</td>\n",
       "      <td>4189</td>\n",
       "      <td>724</td>\n",
       "      <td>295</td>\n",
       "      <td>117</td>\n",
       "      <td>726</td>\n",
       "      <td>1249</td>\n",
       "      <td>357</td>\n",
       "      <td>892</td>\n",
       "      <td>178</td>\n",
       "      <td>0.366</td>\n",
       "      <td>1</td>\n",
       "    </tr>\n",
       "    <tr>\n",
       "      <th>1</th>\n",
       "      <td>Stan Musial</td>\n",
       "      <td>22</td>\n",
       "      <td>3026</td>\n",
       "      <td>10972</td>\n",
       "      <td>1949</td>\n",
       "      <td>3630</td>\n",
       "      <td>725</td>\n",
       "      <td>177</td>\n",
       "      <td>475</td>\n",
       "      <td>1951</td>\n",
       "      <td>1599</td>\n",
       "      <td>696</td>\n",
       "      <td>78</td>\n",
       "      <td>31</td>\n",
       "      <td>0.331</td>\n",
       "      <td>1</td>\n",
       "    </tr>\n",
       "    <tr>\n",
       "      <th>2</th>\n",
       "      <td>Tris Speaker</td>\n",
       "      <td>22</td>\n",
       "      <td>2789</td>\n",
       "      <td>10195</td>\n",
       "      <td>1882</td>\n",
       "      <td>3514</td>\n",
       "      <td>792</td>\n",
       "      <td>222</td>\n",
       "      <td>117</td>\n",
       "      <td>724</td>\n",
       "      <td>1381</td>\n",
       "      <td>220</td>\n",
       "      <td>432</td>\n",
       "      <td>129</td>\n",
       "      <td>0.345</td>\n",
       "      <td>1</td>\n",
       "    </tr>\n",
       "    <tr>\n",
       "      <th>3</th>\n",
       "      <td>Derek Jeter</td>\n",
       "      <td>20</td>\n",
       "      <td>2747</td>\n",
       "      <td>11195</td>\n",
       "      <td>1923</td>\n",
       "      <td>3465</td>\n",
       "      <td>544</td>\n",
       "      <td>66</td>\n",
       "      <td>260</td>\n",
       "      <td>1311</td>\n",
       "      <td>1082</td>\n",
       "      <td>1840</td>\n",
       "      <td>358</td>\n",
       "      <td>97</td>\n",
       "      <td>0.310</td>\n",
       "      <td>1</td>\n",
       "    </tr>\n",
       "    <tr>\n",
       "      <th>4</th>\n",
       "      <td>Honus Wagner</td>\n",
       "      <td>21</td>\n",
       "      <td>2792</td>\n",
       "      <td>10430</td>\n",
       "      <td>1736</td>\n",
       "      <td>3430</td>\n",
       "      <td>640</td>\n",
       "      <td>252</td>\n",
       "      <td>101</td>\n",
       "      <td>0</td>\n",
       "      <td>963</td>\n",
       "      <td>327</td>\n",
       "      <td>722</td>\n",
       "      <td>15</td>\n",
       "      <td>0.329</td>\n",
       "      <td>1</td>\n",
       "    </tr>\n",
       "  </tbody>\n",
       "</table>\n",
       "</div>"
      ],
      "text/plain": [
       "         PLAYER  YRS     G     AB     R     H   2B   3B   HR   RBI    BB  \\\n",
       "0       Ty Cobb   24  3035  11434  2246  4189  724  295  117   726  1249   \n",
       "1   Stan Musial   22  3026  10972  1949  3630  725  177  475  1951  1599   \n",
       "2  Tris Speaker   22  2789  10195  1882  3514  792  222  117   724  1381   \n",
       "3   Derek Jeter   20  2747  11195  1923  3465  544   66  260  1311  1082   \n",
       "4  Honus Wagner   21  2792  10430  1736  3430  640  252  101     0   963   \n",
       "\n",
       "     SO   SB   CS     BA  HOF  \n",
       "0   357  892  178  0.366    1  \n",
       "1   696   78   31  0.331    1  \n",
       "2   220  432  129  0.345    1  \n",
       "3  1840  358   97  0.310    1  \n",
       "4   327  722   15  0.329    1  "
      ]
     },
     "execution_count": 1,
     "metadata": {},
     "output_type": "execute_result"
    }
   ],
   "source": [
    "import numpy as np \n",
    "import pandas as pd \n",
    "df=pd.read_csv(\"500hits.csv\",encoding=\"latin-1\")\n",
    "df.head()"
   ]
  },
  {
   "cell_type": "code",
   "execution_count": 4,
   "metadata": {},
   "outputs": [],
   "source": [
    "df=df.drop(columns=['PLAYER','CS'],axis=1)"
   ]
  },
  {
   "cell_type": "code",
   "execution_count": 5,
   "metadata": {},
   "outputs": [
    {
     "name": "stdout",
     "output_type": "stream",
     "text": [
      "<class 'pandas.core.frame.DataFrame'>\n",
      "RangeIndex: 465 entries, 0 to 464\n",
      "Data columns (total 14 columns):\n",
      " #   Column  Non-Null Count  Dtype  \n",
      "---  ------  --------------  -----  \n",
      " 0   YRS     465 non-null    int64  \n",
      " 1   G       465 non-null    int64  \n",
      " 2   AB      465 non-null    int64  \n",
      " 3   R       465 non-null    int64  \n",
      " 4   H       465 non-null    int64  \n",
      " 5   2B      465 non-null    int64  \n",
      " 6   3B      465 non-null    int64  \n",
      " 7   HR      465 non-null    int64  \n",
      " 8   RBI     465 non-null    int64  \n",
      " 9   BB      465 non-null    int64  \n",
      " 10  SO      465 non-null    int64  \n",
      " 11  SB      465 non-null    int64  \n",
      " 12  BA      465 non-null    float64\n",
      " 13  HOF     465 non-null    int64  \n",
      "dtypes: float64(1), int64(13)\n",
      "memory usage: 51.0 KB\n"
     ]
    }
   ],
   "source": [
    "df.info()"
   ]
  },
  {
   "cell_type": "code",
   "execution_count": 6,
   "metadata": {},
   "outputs": [
    {
     "data": {
      "text/plain": [
       "<bound method NDFrame.describe of      YRS     G     AB     R     H   2B   3B   HR   RBI    BB    SO   SB  \\\n",
       "0     24  3035  11434  2246  4189  724  295  117   726  1249   357  892   \n",
       "1     22  3026  10972  1949  3630  725  177  475  1951  1599   696   78   \n",
       "2     22  2789  10195  1882  3514  792  222  117   724  1381   220  432   \n",
       "3     20  2747  11195  1923  3465  544   66  260  1311  1082  1840  358   \n",
       "4     21  2792  10430  1736  3430  640  252  101     0   963   327  722   \n",
       "..   ...   ...    ...   ...   ...  ...  ...  ...   ...   ...   ...  ...   \n",
       "460   15  1920   6653  1105  1665  285   39  291   964  1224  1427  225   \n",
       "461   17  1829   6092   900  1664  379   10  275  1065   936  1453   20   \n",
       "462   15  1834   6499  1062  1661  338   67  210   761   960  1190  315   \n",
       "463   16  1822   6309   714  1660  254   25   54   593   396   489   74   \n",
       "464   15  1468   5629   785  1660  247   71   61   499   266   471  267   \n",
       "\n",
       "        BA  HOF  \n",
       "0    0.366    1  \n",
       "1    0.331    1  \n",
       "2    0.345    1  \n",
       "3    0.310    1  \n",
       "4    0.329    1  \n",
       "..     ...  ...  \n",
       "460  0.250    0  \n",
       "461  0.273    0  \n",
       "462  0.256    0  \n",
       "463  0.263    0  \n",
       "464  0.295    0  \n",
       "\n",
       "[465 rows x 14 columns]>"
      ]
     },
     "execution_count": 6,
     "metadata": {},
     "output_type": "execute_result"
    }
   ],
   "source": [
    "df.describe"
   ]
  },
  {
   "cell_type": "code",
   "execution_count": 7,
   "metadata": {},
   "outputs": [],
   "source": [
    "x1=df.iloc[:,0:13]"
   ]
  },
  {
   "cell_type": "code",
   "execution_count": 8,
   "metadata": {},
   "outputs": [],
   "source": [
    "x2=df.iloc[:,0:13]"
   ]
  },
  {
   "cell_type": "code",
   "execution_count": 9,
   "metadata": {},
   "outputs": [],
   "source": [
    "from sklearn.preprocessing import StandardScaler\n",
    "scaleStd=StandardScaler()"
   ]
  },
  {
   "cell_type": "code",
   "execution_count": 10,
   "metadata": {},
   "outputs": [],
   "source": [
    "x1=scaleStd.fit_transform(x1)"
   ]
  },
  {
   "cell_type": "code",
   "execution_count": 11,
   "metadata": {},
   "outputs": [],
   "source": [
    "x1=pd.DataFrame(x1,columns=['YRS','G','AB','R','R','2B','3B','HR','RBI','BB','SO','SB','BA'])"
   ]
  },
  {
   "cell_type": "code",
   "execution_count": 13,
   "metadata": {},
   "outputs": [
    {
     "data": {
      "text/html": [
       "<div>\n",
       "<style scoped>\n",
       "    .dataframe tbody tr th:only-of-type {\n",
       "        vertical-align: middle;\n",
       "    }\n",
       "\n",
       "    .dataframe tbody tr th {\n",
       "        vertical-align: top;\n",
       "    }\n",
       "\n",
       "    .dataframe thead th {\n",
       "        text-align: right;\n",
       "    }\n",
       "</style>\n",
       "<table border=\"1\" class=\"dataframe\">\n",
       "  <thead>\n",
       "    <tr style=\"text-align: right;\">\n",
       "      <th></th>\n",
       "      <th>YRS</th>\n",
       "      <th>G</th>\n",
       "      <th>AB</th>\n",
       "      <th>R</th>\n",
       "      <th>R</th>\n",
       "      <th>2B</th>\n",
       "      <th>3B</th>\n",
       "      <th>HR</th>\n",
       "      <th>RBI</th>\n",
       "      <th>BB</th>\n",
       "      <th>SO</th>\n",
       "      <th>SB</th>\n",
       "      <th>BA</th>\n",
       "    </tr>\n",
       "  </thead>\n",
       "  <tbody>\n",
       "    <tr>\n",
       "      <th>0</th>\n",
       "      <td>2.516295</td>\n",
       "      <td>2.786078</td>\n",
       "      <td>3.034442</td>\n",
       "      <td>3.787062</td>\n",
       "      <td>4.764193</td>\n",
       "      <td>3.559333</td>\n",
       "      <td>4.389485</td>\n",
       "      <td>-0.585841</td>\n",
       "      <td>-0.346449</td>\n",
       "      <td>1.423013</td>\n",
       "      <td>-1.003628</td>\n",
       "      <td>3.832067</td>\n",
       "      <td>3.648290</td>\n",
       "    </tr>\n",
       "    <tr>\n",
       "      <th>1</th>\n",
       "      <td>1.792237</td>\n",
       "      <td>2.760655</td>\n",
       "      <td>2.677044</td>\n",
       "      <td>2.760530</td>\n",
       "      <td>3.444971</td>\n",
       "      <td>3.569709</td>\n",
       "      <td>1.996457</td>\n",
       "      <td>1.909487</td>\n",
       "      <td>2.175837</td>\n",
       "      <td>2.493089</td>\n",
       "      <td>-0.309948</td>\n",
       "      <td>-0.649080</td>\n",
       "      <td>1.996159</td>\n",
       "    </tr>\n",
       "    <tr>\n",
       "      <th>2</th>\n",
       "      <td>1.792237</td>\n",
       "      <td>2.091184</td>\n",
       "      <td>2.075964</td>\n",
       "      <td>2.528955</td>\n",
       "      <td>3.171214</td>\n",
       "      <td>4.264876</td>\n",
       "      <td>2.909053</td>\n",
       "      <td>-0.585841</td>\n",
       "      <td>-0.350567</td>\n",
       "      <td>1.826585</td>\n",
       "      <td>-1.283965</td>\n",
       "      <td>1.299723</td>\n",
       "      <td>2.657012</td>\n",
       "    </tr>\n",
       "    <tr>\n",
       "      <th>3</th>\n",
       "      <td>1.068180</td>\n",
       "      <td>1.972543</td>\n",
       "      <td>2.849554</td>\n",
       "      <td>2.670665</td>\n",
       "      <td>3.055576</td>\n",
       "      <td>1.691719</td>\n",
       "      <td>-0.254611</td>\n",
       "      <td>0.410896</td>\n",
       "      <td>0.858071</td>\n",
       "      <td>0.912434</td>\n",
       "      <td>2.030966</td>\n",
       "      <td>0.892346</td>\n",
       "      <td>1.004881</td>\n",
       "    </tr>\n",
       "    <tr>\n",
       "      <th>4</th>\n",
       "      <td>1.430208</td>\n",
       "      <td>2.099658</td>\n",
       "      <td>2.257758</td>\n",
       "      <td>2.024329</td>\n",
       "      <td>2.972977</td>\n",
       "      <td>2.687780</td>\n",
       "      <td>3.517449</td>\n",
       "      <td>-0.697364</td>\n",
       "      <td>-1.841290</td>\n",
       "      <td>0.548609</td>\n",
       "      <td>-1.065016</td>\n",
       "      <td>2.896201</td>\n",
       "      <td>1.901752</td>\n",
       "    </tr>\n",
       "  </tbody>\n",
       "</table>\n",
       "</div>"
      ],
      "text/plain": [
       "        YRS         G        AB         R         R        2B        3B  \\\n",
       "0  2.516295  2.786078  3.034442  3.787062  4.764193  3.559333  4.389485   \n",
       "1  1.792237  2.760655  2.677044  2.760530  3.444971  3.569709  1.996457   \n",
       "2  1.792237  2.091184  2.075964  2.528955  3.171214  4.264876  2.909053   \n",
       "3  1.068180  1.972543  2.849554  2.670665  3.055576  1.691719 -0.254611   \n",
       "4  1.430208  2.099658  2.257758  2.024329  2.972977  2.687780  3.517449   \n",
       "\n",
       "         HR       RBI        BB        SO        SB        BA  \n",
       "0 -0.585841 -0.346449  1.423013 -1.003628  3.832067  3.648290  \n",
       "1  1.909487  2.175837  2.493089 -0.309948 -0.649080  1.996159  \n",
       "2 -0.585841 -0.350567  1.826585 -1.283965  1.299723  2.657012  \n",
       "3  0.410896  0.858071  0.912434  2.030966  0.892346  1.004881  \n",
       "4 -0.697364 -1.841290  0.548609 -1.065016  2.896201  1.901752  "
      ]
     },
     "execution_count": 13,
     "metadata": {},
     "output_type": "execute_result"
    }
   ],
   "source": [
    "x1.head()"
   ]
  },
  {
   "cell_type": "code",
   "execution_count": 14,
   "metadata": {},
   "outputs": [
    {
     "data": {
      "text/plain": [
       "<bound method NDFrame.describe of           YRS         G        AB         R         R        2B        3B  \\\n",
       "0    2.516295  2.786078  3.034442  3.787062  4.764193  3.559333  4.389485   \n",
       "1    1.792237  2.760655  2.677044  2.760530  3.444971  3.569709  1.996457   \n",
       "2    1.792237  2.091184  2.075964  2.528955  3.171214  4.264876  2.909053   \n",
       "3    1.068180  1.972543  2.849554  2.670665  3.055576  1.691719 -0.254611   \n",
       "4    1.430208  2.099658  2.257758  2.024329  2.972977  2.687780  3.517449   \n",
       "..        ...       ...       ...       ...       ...       ...       ...   \n",
       "460 -0.741964 -0.363545 -0.664093 -0.156620 -1.192368 -0.995570 -0.802168   \n",
       "461 -0.017907 -0.620600 -1.098077 -0.865170 -1.194728 -0.020260 -1.390285   \n",
       "462 -0.741964 -0.606476 -0.783226 -0.305243 -1.201808 -0.445661 -0.234331   \n",
       "463 -0.379936 -0.640373 -0.930208 -1.508049 -1.204168 -1.317215 -1.086086   \n",
       "464 -0.741964 -1.640344 -1.456250 -1.262649 -1.204168 -1.389844 -0.153211   \n",
       "\n",
       "           HR       RBI        BB        SO        SB        BA  \n",
       "0   -0.585841 -0.346449  1.423013 -1.003628  3.832067  3.648290  \n",
       "1    1.909487  2.175837  2.493089 -0.309948 -0.649080  1.996159  \n",
       "2   -0.585841 -0.350567  1.826585 -1.283965  1.299723  2.657012  \n",
       "3    0.410896  0.858071  0.912434  2.030966  0.892346  1.004881  \n",
       "4   -0.697364 -1.841290  0.548609 -1.065016  2.896201  1.901752  \n",
       "..        ...       ...       ...       ...       ...       ...  \n",
       "460  0.626972  0.143595  1.346579  1.185863  0.160169 -1.827343  \n",
       "461  0.515449  0.351555  0.466060  1.239066 -0.968376 -0.741657  \n",
       "462  0.062387 -0.274384  0.539436  0.700901  0.655627 -1.544120  \n",
       "463 -1.024962 -0.620298 -1.184914 -0.733523 -0.671101 -1.213694  \n",
       "464 -0.976171 -0.813845 -1.582371 -0.770355  0.391383  0.296825  \n",
       "\n",
       "[465 rows x 13 columns]>"
      ]
     },
     "execution_count": 14,
     "metadata": {},
     "output_type": "execute_result"
    }
   ],
   "source": [
    "\n",
    "x1.describe"
   ]
  },
  {
   "cell_type": "code",
   "execution_count": null,
   "metadata": {},
   "outputs": [],
   "source": [
    "from sklearn.preprocessing import MinMaxScaler\n",
    "sacleminmax=MinMaxScaler()\n",
    "#sacleminmax=MinMaxScaler(feature_range=(0,1))"
   ]
  },
  {
   "cell_type": "code",
   "execution_count": 16,
   "metadata": {},
   "outputs": [],
   "source": [
    "x2=sacleminmax.fit_transform(x2)"
   ]
  },
  {
   "cell_type": "code",
   "execution_count": 17,
   "metadata": {},
   "outputs": [],
   "source": [
    "x2=pd.DataFrame(x1,columns=['YRS','G','AB','R','R','2B','3B','HR','RBI','BB','SO','SB','BA'])"
   ]
  },
  {
   "cell_type": "code",
   "execution_count": 18,
   "metadata": {},
   "outputs": [
    {
     "data": {
      "text/plain": [
       "<bound method NDFrame.head of           YRS         G        AB         R         R        2B        3B  \\\n",
       "0    2.516295  2.786078  3.034442  3.787062  4.764193  3.559333  4.389485   \n",
       "1    1.792237  2.760655  2.677044  2.760530  3.444971  3.569709  1.996457   \n",
       "2    1.792237  2.091184  2.075964  2.528955  3.171214  4.264876  2.909053   \n",
       "3    1.068180  1.972543  2.849554  2.670665  3.055576  1.691719 -0.254611   \n",
       "4    1.430208  2.099658  2.257758  2.024329  2.972977  2.687780  3.517449   \n",
       "..        ...       ...       ...       ...       ...       ...       ...   \n",
       "460 -0.741964 -0.363545 -0.664093 -0.156620 -1.192368 -0.995570 -0.802168   \n",
       "461 -0.017907 -0.620600 -1.098077 -0.865170 -1.194728 -0.020260 -1.390285   \n",
       "462 -0.741964 -0.606476 -0.783226 -0.305243 -1.201808 -0.445661 -0.234331   \n",
       "463 -0.379936 -0.640373 -0.930208 -1.508049 -1.204168 -1.317215 -1.086086   \n",
       "464 -0.741964 -1.640344 -1.456250 -1.262649 -1.204168 -1.389844 -0.153211   \n",
       "\n",
       "           HR       RBI        BB        SO        SB        BA  \n",
       "0   -0.585841 -0.346449  1.423013 -1.003628  3.832067  3.648290  \n",
       "1    1.909487  2.175837  2.493089 -0.309948 -0.649080  1.996159  \n",
       "2   -0.585841 -0.350567  1.826585 -1.283965  1.299723  2.657012  \n",
       "3    0.410896  0.858071  0.912434  2.030966  0.892346  1.004881  \n",
       "4   -0.697364 -1.841290  0.548609 -1.065016  2.896201  1.901752  \n",
       "..        ...       ...       ...       ...       ...       ...  \n",
       "460  0.626972  0.143595  1.346579  1.185863  0.160169 -1.827343  \n",
       "461  0.515449  0.351555  0.466060  1.239066 -0.968376 -0.741657  \n",
       "462  0.062387 -0.274384  0.539436  0.700901  0.655627 -1.544120  \n",
       "463 -1.024962 -0.620298 -1.184914 -0.733523 -0.671101 -1.213694  \n",
       "464 -0.976171 -0.813845 -1.582371 -0.770355  0.391383  0.296825  \n",
       "\n",
       "[465 rows x 13 columns]>"
      ]
     },
     "execution_count": 18,
     "metadata": {},
     "output_type": "execute_result"
    }
   ],
   "source": [
    "x2.head"
   ]
  },
  {
   "cell_type": "code",
   "execution_count": 20,
   "metadata": {},
   "outputs": [
    {
     "data": {
      "text/plain": [
       "<bound method NDFrame.describe of           YRS         G        AB         R         R        2B        3B  \\\n",
       "0    2.516295  2.786078  3.034442  3.787062  4.764193  3.559333  4.389485   \n",
       "1    1.792237  2.760655  2.677044  2.760530  3.444971  3.569709  1.996457   \n",
       "2    1.792237  2.091184  2.075964  2.528955  3.171214  4.264876  2.909053   \n",
       "3    1.068180  1.972543  2.849554  2.670665  3.055576  1.691719 -0.254611   \n",
       "4    1.430208  2.099658  2.257758  2.024329  2.972977  2.687780  3.517449   \n",
       "..        ...       ...       ...       ...       ...       ...       ...   \n",
       "460 -0.741964 -0.363545 -0.664093 -0.156620 -1.192368 -0.995570 -0.802168   \n",
       "461 -0.017907 -0.620600 -1.098077 -0.865170 -1.194728 -0.020260 -1.390285   \n",
       "462 -0.741964 -0.606476 -0.783226 -0.305243 -1.201808 -0.445661 -0.234331   \n",
       "463 -0.379936 -0.640373 -0.930208 -1.508049 -1.204168 -1.317215 -1.086086   \n",
       "464 -0.741964 -1.640344 -1.456250 -1.262649 -1.204168 -1.389844 -0.153211   \n",
       "\n",
       "           HR       RBI        BB        SO        SB        BA  \n",
       "0   -0.585841 -0.346449  1.423013 -1.003628  3.832067  3.648290  \n",
       "1    1.909487  2.175837  2.493089 -0.309948 -0.649080  1.996159  \n",
       "2   -0.585841 -0.350567  1.826585 -1.283965  1.299723  2.657012  \n",
       "3    0.410896  0.858071  0.912434  2.030966  0.892346  1.004881  \n",
       "4   -0.697364 -1.841290  0.548609 -1.065016  2.896201  1.901752  \n",
       "..        ...       ...       ...       ...       ...       ...  \n",
       "460  0.626972  0.143595  1.346579  1.185863  0.160169 -1.827343  \n",
       "461  0.515449  0.351555  0.466060  1.239066 -0.968376 -0.741657  \n",
       "462  0.062387 -0.274384  0.539436  0.700901  0.655627 -1.544120  \n",
       "463 -1.024962 -0.620298 -1.184914 -0.733523 -0.671101 -1.213694  \n",
       "464 -0.976171 -0.813845 -1.582371 -0.770355  0.391383  0.296825  \n",
       "\n",
       "[465 rows x 13 columns]>"
      ]
     },
     "execution_count": 20,
     "metadata": {},
     "output_type": "execute_result"
    }
   ],
   "source": [
    "x2.describe"
   ]
  },
  {
   "cell_type": "code",
   "execution_count": null,
   "metadata": {},
   "outputs": [],
   "source": []
  }
 ],
 "metadata": {
  "kernelspec": {
   "display_name": "base",
   "language": "python",
   "name": "python3"
  },
  "language_info": {
   "codemirror_mode": {
    "name": "ipython",
    "version": 3
   },
   "file_extension": ".py",
   "mimetype": "text/x-python",
   "name": "python",
   "nbconvert_exporter": "python",
   "pygments_lexer": "ipython3",
   "version": "3.10.9"
  }
 },
 "nbformat": 4,
 "nbformat_minor": 2
}
